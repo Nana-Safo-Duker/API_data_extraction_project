{
 "cells": [
  {
   "cell_type": "code",
   "execution_count": null,
   "metadata": {},
   "outputs": [
    {
     "name": "stdout",
     "output_type": "stream",
     "text": [
      "{'status': 'error', 'code': 'apiKeyMissing', 'message': 'Your API key is missing. Append this to the URL with the apiKey param, or use the x-api-key HTTP header.'}\n"
     ]
    }
   ],
   "source": [
    "import requests\n",
    "import requests as r\n",
    "import pandas as pd\n",
    "url = 'https://newsapi.org/v2/top-headlines'\n",
    "params = {\n",
    "    'country': 'us',\n",
    "    'category':  'technology',\n",
    "    'apkey': '4dbedf035ac440d8a6f8f666b20b9220'\n",
    "}\n",
    "response = r.get(url, params=params)\n",
    "\n",
    "#save response to a json file\n",
    "data = response.json()\n",
    "print(data)"
   ]
  },
  {
   "cell_type": "code",
   "execution_count": 4,
   "metadata": {},
   "outputs": [],
   "source": [
    "import requests\n",
    "import requests as r\n",
    "import pandas as pd\n",
    "url = 'https://newsapi.org/v2/top-headlines'\n",
    "params = {\n",
    "    'country': 'us',\n",
    "    'category':  'technology',\n",
    "    'aplkey': '4dbedf035ac440d8a6f8f666b20b9220'\n",
    "}\n",
    "response = r.get(url, params=params)\n",
    "\n",
    "#save response to a json file\n",
    "news_data = response.json()\n",
    "\n",
    "if response.status_code == 200:\n",
    "    for article in news_data.get('articles', []):\n",
    "       full_article = []\n",
    "       full_article.append([article.get('title','N/A'), article.get('description', 'N/A')])\n",
    "       print(full_article)\n"
   ]
  },
  {
   "cell_type": "code",
   "execution_count": 7,
   "metadata": {},
   "outputs": [
    {
     "ename": "NameError",
     "evalue": "name 'articles' is not defined",
     "output_type": "error",
     "traceback": [
      "\u001b[1;31m---------------------------------------------------------------------------\u001b[0m",
      "\u001b[1;31mNameError\u001b[0m                                 Traceback (most recent call last)",
      "Cell \u001b[1;32mIn[7], line 24\u001b[0m\n\u001b[0;32m     16\u001b[0m     \u001b[38;5;28;01mfor\u001b[39;00m article \u001b[38;5;129;01min\u001b[39;00m data\u001b[38;5;241m.\u001b[39mget(\u001b[38;5;124m'\u001b[39m\u001b[38;5;124marticles\u001b[39m\u001b[38;5;124m'\u001b[39m):\n\u001b[0;32m     17\u001b[0m         articles\u001b[38;5;241m.\u001b[39mappend({\n\u001b[0;32m     18\u001b[0m             \u001b[38;5;124m'\u001b[39m\u001b[38;5;124mTitle\u001b[39m\u001b[38;5;124m'\u001b[39m : article\u001b[38;5;241m.\u001b[39mget(\u001b[38;5;124m'\u001b[39m\u001b[38;5;124mtitle\u001b[39m\u001b[38;5;124m'\u001b[39m, \u001b[38;5;124m'\u001b[39m\u001b[38;5;124mN/A\u001b[39m\u001b[38;5;124m'\u001b[39m),\n\u001b[0;32m     19\u001b[0m             \u001b[38;5;124m'\u001b[39m\u001b[38;5;124mAuthor\u001b[39m\u001b[38;5;124m'\u001b[39m : article\u001b[38;5;241m.\u001b[39mget(\u001b[38;5;124m'\u001b[39m\u001b[38;5;124mauthor\u001b[39m\u001b[38;5;124m'\u001b[39m, \u001b[38;5;124m'\u001b[39m\u001b[38;5;124mN/A\u001b[39m\u001b[38;5;124m'\u001b[39m),\n\u001b[0;32m     20\u001b[0m             \u001b[38;5;124m'\u001b[39m\u001b[38;5;124mUrl\u001b[39m\u001b[38;5;124m'\u001b[39m : article\u001b[38;5;241m.\u001b[39mget(\u001b[38;5;124m'\u001b[39m\u001b[38;5;124murl\u001b[39m\u001b[38;5;124m'\u001b[39m, \u001b[38;5;124m'\u001b[39m\u001b[38;5;124mN/A\u001b[39m\u001b[38;5;124m'\u001b[39m),\n\u001b[0;32m     21\u001b[0m             \u001b[38;5;124m'\u001b[39m\u001b[38;5;124mDescription\u001b[39m\u001b[38;5;124m'\u001b[39m: article\u001b[38;5;241m.\u001b[39mget(\u001b[38;5;124m'\u001b[39m\u001b[38;5;124mdescription\u001b[39m\u001b[38;5;124m'\u001b[39m, \u001b[38;5;124m'\u001b[39m\u001b[38;5;124mN/A\u001b[39m\u001b[38;5;124m'\u001b[39m)\n\u001b[0;32m     22\u001b[0m         })\n\u001b[1;32m---> 24\u001b[0m df \u001b[38;5;241m=\u001b[39m pd\u001b[38;5;241m.\u001b[39mDataFrame(articles)\n\u001b[0;32m     25\u001b[0m df\u001b[38;5;241m.\u001b[39mto_csv(\u001b[38;5;124m'\u001b[39m\u001b[38;5;124marticles.csv\u001b[39m\u001b[38;5;124m'\u001b[39m, index\u001b[38;5;241m=\u001b[39m\u001b[38;5;28;01mTrue\u001b[39;00m)\n",
      "\u001b[1;31mNameError\u001b[0m: name 'articles' is not defined"
     ]
    }
   ],
   "source": [
    "import requests\n",
    "import requests as r\n",
    "import pandas as pd\n",
    "\n",
    "url = 'https://newsapi.org/v2/top-headlines'\n",
    "params = {\n",
    "    'country': 'us',\n",
    "    'category':  'technology',\n",
    "    'aplkey': '4dbedf035ac440d8a6f8f666b20b9220'\n",
    "}\n",
    "response = r.get(url, params=params)\n",
    "\n",
    "if response.status_code == 200:\n",
    "    data = response.json()\n",
    "    articles = []\n",
    "    for article in data.get('articles'):\n",
    "        articles.append({\n",
    "            'Title' : article.get('title', 'N/A'),\n",
    "            'Author' : article.get('author', 'N/A'),\n",
    "            'Url' : article.get('url', 'N/A'),\n",
    "            'Description': article.get('description', 'N/A')\n",
    "        })\n",
    "\n",
    "df = pd.DataFrame(articles)\n",
    "df.to_csv('articles.csv', index=True)"
   ]
  },
  {
   "cell_type": "code",
   "execution_count": null,
   "metadata": {},
   "outputs": [],
   "source": [
    "import pandas as pd\n",
    "import requests as r\n",
    "from dotenv import load_dotenv\n",
    "import os\n",
    "\n",
    "# Load envirogtent varlables from.env file\n",
    "lood_dotenv()\n",
    "\n",
    "#Access the API key from environent variables\n",
    "api_key = os.getenv('APT_KFY')\n",
    "\n",
    "url = 'https://newsapi.org/v2/top-headlines'\n",
    "params = {'country' :'us'}\n",
    "headers = {'Authorization' :f'Bearer {api_key}'}\n",
    "\n",
    "response = r.get(url, params-paraes,headers-headers)\n",
    "data = response.json()\n",
    "for articles in datal'articles']:\n",
    "print(article.get('title'))"
   ]
  }
 ],
 "metadata": {
  "kernelspec": {
   "display_name": "base",
   "language": "python",
   "name": "python3"
  },
  "language_info": {
   "codemirror_mode": {
    "name": "ipython",
    "version": 3
   },
   "file_extension": ".py",
   "mimetype": "text/x-python",
   "name": "python",
   "nbconvert_exporter": "python",
   "pygments_lexer": "ipython3",
   "version": "3.12.3"
  }
 },
 "nbformat": 4,
 "nbformat_minor": 2
}
