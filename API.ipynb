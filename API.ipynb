{
 "cells": [
  {
   "cell_type": "code",
   "execution_count": null,
   "metadata": {
    "vscode": {
     "languageId": "r"
    }
   },
   "outputs": [],
   "source": [
    "import requests\n",
    "import requests as r\n",
    "import pandas as pd\n",
    "url = 'https://newsapi.org/v2/top-headlines'\n",
    "params = {\n",
    "    'country': 'us',\n",
    "    'category':  'technology',\n",
    "    'aplkey': 'e7811595ab0748339199934ed4a0cec3'\n",
    "}\n",
    "response = r.get(url, params=params)\n",
    "\n",
    "#save response to a json file\n",
    "data = response.json()\n",
    "print(data)"
   ]
  },
  {
   "cell_type": "code",
   "execution_count": null,
   "metadata": {
    "vscode": {
     "languageId": "r"
    }
   },
   "outputs": [],
   "source": [
    "import requests\n",
    "import requests as r\n",
    "import pandas as pd\n",
    "url = 'https://newsapi.org/v2/top-headlines'\n",
    "params = {\n",
    "    'country': 'us',\n",
    "    'category':  'technology',\n",
    "    'aplkey': 'e7811595ab0748339199934ed4a0cec3'\n",
    "}\n",
    "response = r.get(url, params=params)\n",
    "\n",
    "#save response to a json file\n",
    "news_data = response.json()\n",
    "\n",
    "if response.status_code == 200:\n",
    "    for article in news_data.get('articles', []):\n",
    "       full_article = []\n",
    "       full_article.append([article.get('title','N/A'), article.get('description', 'N/A')])\n",
    "       print(full_article)\n"
   ]
  },
  {
   "cell_type": "code",
   "execution_count": null,
   "metadata": {
    "vscode": {
     "languageId": "r"
    }
   },
   "outputs": [],
   "source": [
    "import requests\n",
    "import requests as r\n",
    "import pandas as pd\n",
    "\n",
    "url = 'https://newsapi.org/v2/top-headlines'\n",
    "params = {\n",
    "    'country': 'us',\n",
    "    'category':  'technology',\n",
    "    'aplkey': 'e7811595ab0748339199934ed4a0cec3'\n",
    "}\n",
    "response = r.get(url, params=params)\n",
    "\n",
    "if response.status_code == 200:\n",
    "    data = response.json()\n",
    "    articles = []\n",
    "    for article in data.get('articles'):\n",
    "        articles.append({\n",
    "            'Title' : article.get('title', 'N/A'),\n",
    "            'Author' : article.get('author', 'N/A'),\n",
    "            'Url' : article.get('url', 'N/A'),\n",
    "            'Description': article.get('description', 'N/A')\n",
    "        })\n",
    "\n",
    "df = pd.DataFra(articles)\n",
    "df.to_csv('articles.csv', index=True)"
   ]
  },
  {
   "cell_type": "code",
   "execution_count": null,
   "metadata": {
    "vscode": {
     "languageId": "r"
    }
   },
   "outputs": [],
   "source": [
    "import pandas as pd\n",
    "import requests as r\n",
    "from dotenv import load_dotenv\n",
    "import os\n",
    "\n",
    "# Load envirogtent varlables from.env file\n",
    "lood_dotenv()\n",
    "\n",
    "#Access the API key from environent variables\n",
    "api_key = os.getenv('APT_KFY')\n",
    "\n",
    "url = 'https://newsapi.org/v2/top-headlines'\n",
    "params = {'country' :'us'}\n",
    "headers = {'Authorization' :f'Bearer {api_key}'}\n",
    "\n",
    "response = r.get(url, params-paraes,headers-headers)\n",
    "data = response.json()\n",
    "for articles in datal'articles']:\n",
    "print(article.get('title'))"
   ]
  }
 ],
 "metadata": {
  "kernelspec": {
   "display_name": "R",
   "language": "R",
   "name": "ir"
  },
  "language_info": {
   "name": "R"
  }
 },
 "nbformat": 4,
 "nbformat_minor": 2
}
